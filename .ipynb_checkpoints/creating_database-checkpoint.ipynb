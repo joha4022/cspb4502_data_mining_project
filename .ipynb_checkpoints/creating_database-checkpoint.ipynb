{
 "cells": [
  {
   "cell_type": "markdown",
   "id": "8c027ab30f9fe7b1",
   "metadata": {},
   "source": [
    "# creating_database.ipynb\n",
    "### Author: Alexander X. Gonzalez-Torres\n",
    "**October 24, 2024**\n",
    "\n",
    "This Jupyter Notebook documents my process to combine our raw dataset, in its eponymous subdirectory,into an usable database for the project.    \n",
    "\n"
   ]
  },
  {
   "cell_type": "code",
   "execution_count": 1,
   "id": "5bddfb6cc1cfcc42",
   "metadata": {
    "ExecuteTime": {
     "end_time": "2024-10-25T11:17:08.181474Z",
     "start_time": "2024-10-25T11:17:07.898161Z"
    }
   },
   "outputs": [],
   "source": [
    "## LIBRARIES USED ##\n",
    "\n",
    "import pandas as pd\n",
    "import sqlite3\n"
   ]
  },
  {
   "cell_type": "markdown",
   "id": "5dace682ae4c7fd3",
   "metadata": {},
   "source": [
    "**STEP 1: Trim WDICSV.csv down to countries by eliminating regions**\n"
   ]
  },
  {
   "cell_type": "code",
   "execution_count": null,
   "id": "ff24459724298c33",
   "metadata": {
    "ExecuteTime": {
     "end_time": "2024-10-25T11:17:15.275123Z",
     "start_time": "2024-10-25T11:17:08.182576Z"
    }
   },
   "outputs": [
    {
     "ename": "",
     "evalue": "",
     "output_type": "error",
     "traceback": [
      "\u001b[1;31mRunning cells with 'Python 3.10.6 64-bit' requires ipykernel package.\n",
      "Run the following command to install 'ipykernel' into the Python environment. \n",
      "Command: '/bin/python3 -m pip install ipykernel -U --user --force-reinstall'"
     ]
    }
   ],
   "source": [
    "# Load the CSV into a DataFrame\n",
    "wdi_csv = pd.read_csv(\"raw_dataset/WDICSV.csv\")\n",
    "\n",
    "# Find the index of the first occurrence of \"Afghanistan\" in the 'Country Name' column\n",
    "afghanistan_index = wdi_csv[wdi_csv['Country Name'] == \"Afghanistan\"].index[0]\n",
    "\n",
    "# Keep all rows starting from the index of \"Afghanistan\"\n",
    "trimmed_df = wdi_csv.loc[afghanistan_index:]\n",
    "\n",
    "# Check the result\n",
    "print(\"Numbers of rows expected after trimming: 322896.\")\n",
    "print(f\"Number of rows in DataFrame: {len(trimmed_df)}\")\n",
    "\n",
    "# Download DataFrame as .csv \n",
    "trimmed_df.to_csv(\"world_bank_processed.csv\", index=False)"
   ]
  },
  {
   "cell_type": "markdown",
   "id": "9ebccbf0f3993c00",
   "metadata": {},
   "source": [
    "**STEP 2: Standardize dates in EM-DAT csv (YYYY)**"
   ]
  },
  {
   "cell_type": "code",
   "execution_count": null,
   "id": "1da14ad8dc02c679",
   "metadata": {
    "ExecuteTime": {
     "end_time": "2024-10-25T11:17:15.579374Z",
     "start_time": "2024-10-25T11:17:15.275780Z"
    }
   },
   "outputs": [
    {
     "ename": "",
     "evalue": "",
     "output_type": "error",
     "traceback": [
      "\u001b[1;31mRunning cells with 'Python 3.10.6 64-bit' requires ipykernel package.\n",
      "Run the following command to install 'ipykernel' into the Python environment. \n",
      "Command: '/bin/python3 -m pip install ipykernel -U --user --force-reinstall'"
     ]
    }
   ],
   "source": [
    "# Load CSV into DataFrame \n",
    "\n",
    "emdat_csv = pd.read_csv(\"raw_dataset/public_emdat_custom_request_2024-10-11_b70b4036-b2bb-48b2-87db-19b38cd8140f.csv\")\n",
    "\n",
    "# Extract the first 4 characters (which correspond to the year)\n",
    "emdat_csv['Year'] = emdat_csv['DisNo.'].str[:4]\n",
    "\n",
    "# Convert the extracted year to integer\n",
    "emdat_csv['Year'] = emdat_csv['Year'].astype(int)\n",
    "\n",
    "# Place Year column next to DisNo. \n",
    "cols = emdat_csv.columns.tolist()  \n",
    "disno_index = cols.index('DisNo.')  \n",
    "cols.insert(disno_index + 1, cols.pop(cols.index('Year')))  \n",
    "emdat_csv = emdat_csv[cols]  \n",
    "\n",
    "# Check emdat_csv \n",
    "emdat_csv.head()\n",
    "\n",
    "# Download DataFrame as .csv \n",
    "emdat_csv.to_csv(\"emdat_processed.csv\", index=False)"
   ]
  },
  {
   "cell_type": "markdown",
   "id": "67e4d02c36e4547f",
   "metadata": {},
   "source": []
  },
  {
   "cell_type": "markdown",
   "id": "196ba6cc387c6585",
   "metadata": {},
   "source": [
    "**TENTATIVE, STEP 3: Turn WDI Indicators into columns and years into rows**"
   ]
  },
  {
   "cell_type": "code",
   "execution_count": null,
   "id": "85d2f424f7203288",
   "metadata": {},
   "outputs": [],
   "source": [
    "# Step 1: Identify the columns that represent years (which should be numeric)\n",
    "year_columns = [col for col in trimmed_df.columns if col.isdigit()]\n",
    "\n",
    "# Step 2: Melt the DataFrame, ensuring that only year columns are melted\n",
    "trimmed_df_melted = pd.melt(\n",
    "    trimmed_df,\n",
    "    id_vars=['Country Name', 'Country Code', 'Indicator Name', 'Indicator Code'],  \n",
    "    value_vars=year_columns,  \n",
    "    var_name='Year',\n",
    "    value_name='Value'\n",
    ")\n",
    "\n",
    "# Convert the 'Year' column to integers (now we know it only contains year values)\n",
    "trimmed_df_melted['Year'] = trimmed_df_melted['Year'].astype(int)\n",
    "\n",
    "# Convert 'Value' column to numeric (this will turn non-numeric values into NaN)\n",
    "trimmed_df_melted['Value'] = pd.to_numeric(trimmed_df_melted['Value'], errors='coerce')\n",
    "\n",
    "# Step 3: Pivot the DataFrame so each indicator becomes its own column\n",
    "trimmed_df_pivoted = trimmed_df_melted.pivot_table(\n",
    "    index=['Country Name', 'Country Code', 'Year'],\n",
    "    columns='Indicator Name',\n",
    "    values='Value',\n",
    "    aggfunc='first'  \n",
    ")\n",
    "\n",
    "# Reset the index to make 'Country Name', 'Country Code', and 'Year' normal columns\n",
    "trimmed_df_pivoted.reset_index(inplace=True)\n",
    "\n",
    "# The DataFrame should now have 'Country Name', 'Country Code', 'Year' as the first three columns\n",
    "# and each 'Indicator Name' as its own column\n",
    "trimmed_df_pivoted.to_csv(\"world_bank_long.csv\", index=False)"
   ]
  },
  {
   "cell_type": "markdown",
   "id": "f63cd30ad40833da",
   "metadata": {},
   "source": [
    "NOTE: Beyond this I'm stuck, we'll probably want to write a script that automates the time-series analysis. I don't think that a single CSV file would be most productive. "
   ]
  },
  {
   "cell_type": "markdown",
   "id": "a66409622e15ed52",
   "metadata": {},
   "source": [
    "**STEP 4: NEW IDEA, SQL**"
   ]
  },
  {
   "cell_type": "code",
   "execution_count": null,
   "id": "b9a2c8a3ef667d94",
   "metadata": {
    "ExecuteTime": {
     "end_time": "2024-10-25T17:21:28.931756Z",
     "start_time": "2024-10-25T17:20:42.601210Z"
    }
   },
   "outputs": [
    {
     "ename": "",
     "evalue": "",
     "output_type": "error",
     "traceback": [
      "\u001b[1;31mRunning cells with 'Python 3.10.6 64-bit' requires ipykernel package.\n",
      "Run the following command to install 'ipykernel' into the Python environment. \n",
      "Command: '/bin/python3 -m pip install ipykernel -U --user --force-reinstall'"
     ]
    }
   ],
   "source": [
    "## Let's make a project.db\n",
    "\n",
    "\n",
    "# Load the wide-format economic CSV\n",
    "econ_wide_df = pd.read_csv('./dataset_processed/world_bank_processed.csv')\n",
    "\n",
    "# Reshape the economic data from wide to long format\n",
    "econ_long_df = pd.melt(econ_wide_df,\n",
    "                       id_vars=['Country Name', 'Country Code', 'Indicator Name', 'Indicator Code'],\n",
    "                       var_name='Year',  # This will create the 'Year' column\n",
    "                       value_name='Indicator Value')  # The value of each year\n",
    "\n",
    "# Convert the 'Year' column to an integer\n",
    "econ_long_df['Year'] = econ_long_df['Year'].astype(int)\n",
    "\n",
    "# Rename the columns in the DataFrame to match the table schema\n",
    "econ_long_df.rename(columns={'Country Name': 'CountryName', 'Country Code': 'CountryCode', 'Indicator Name': 'IndicatorName', 'Indicator Value': 'IndicatorValue'}, inplace=True)\n",
    "\n",
    "#Drop the 'Indicator Code' column since it's not part of the SQLite schema\n",
    "econ_long_df.drop(columns=['Indicator Code'], inplace=True)\n",
    "\n",
    "#Connect to SQLite database\n",
    "conn = sqlite3.connect('project.db')\n",
    "\n",
    "# Create the WDI table\n",
    "create_economic_table = \"\"\"\n",
    "CREATE TABLE IF NOT EXISTS WDI (\n",
    "    CountryCode TEXT,\n",
    "    CountryName TEXT,\n",
    "    Year INTEGER,\n",
    "    IndicatorName TEXT,\n",
    "    IndicatorValue REAL,\n",
    "    PRIMARY KEY (CountryCode, Year, IndicatorName)\n",
    ");\n",
    "\"\"\"\n",
    "conn.execute(create_economic_table)\n",
    "\n",
    "# Insert the reshaped data into SQLite\n",
    "econ_long_df.to_sql('WDI', conn, if_exists='append', index=False)\n",
    "\n",
    "# Commit and close the connection\n",
    "conn.commit()\n",
    "conn.close()\n",
    "\n",
    "print(\"Data successfully inserted into the SQLite database!\") "
   ]
  },
  {
   "cell_type": "code",
   "execution_count": null,
   "id": "202bc96e50072c98",
   "metadata": {
    "ExecuteTime": {
     "end_time": "2024-10-25T17:22:19.310006Z",
     "start_time": "2024-10-25T17:22:13.059772Z"
    }
   },
   "outputs": [
    {
     "name": "stdout",
     "output_type": "stream",
     "text": [
      "Number of rows in the SQLite database: 20665344\n",
      "Number of rows in the DataFrame: 20665344\n"
     ]
    },
    {
     "ename": "",
     "evalue": "",
     "output_type": "error",
     "traceback": [
      "\u001b[1;31mRunning cells with 'Python 3.10.6 64-bit' requires ipykernel package.\n",
      "Run the following command to install 'ipykernel' into the Python environment. \n",
      "Command: '/bin/python3 -m pip install ipykernel -U --user --force-reinstall'"
     ]
    }
   ],
   "source": [
    "## Test project.db integrity \n",
    "\n",
    "conn = sqlite3.connect('project.db')\n",
    "\n",
    "# Query to count the number of rows in the economics table\n",
    "query = \"SELECT COUNT(*) FROM WDI;\"\n",
    "cursor = conn.cursor()\n",
    "cursor.execute(query)\n",
    "\n",
    "# Fetch the result\n",
    "row_count = cursor.fetchone()[0]\n",
    "\n",
    "# Print the result\n",
    "print(f\"Number of rows in the SQLite database: {row_count}\")\n",
    "print(f\"Number of rows in the DataFrame: {len(econ_long_df)}\")\n",
    "\n",
    "# Close the connection\n",
    "conn.close()\n"
   ]
  },
  {
   "cell_type": "code",
   "execution_count": 41,
   "id": "b66108a32429b977",
   "metadata": {
    "ExecuteTime": {
     "end_time": "2024-10-25T18:05:27.881083Z",
     "start_time": "2024-10-25T18:05:27.590744Z"
    }
   },
   "outputs": [
    {
     "name": "stdout",
     "output_type": "stream",
     "text": [
      "Data successfully inserted into the DISASTERS table in SQLite!\n"
     ]
    }
   ],
   "source": [
    "# Load the emdat_processed CSV into a pandas DataFrame\n",
    "emdat_df = pd.read_csv('./dataset_processed/emdat_processed.csv')\n",
    "\n",
    "# Connect to the SQLite database (project.db)\n",
    "conn = sqlite3.connect('project.db')\n",
    "\n",
    "# Rename the columns in the DataFrame to match the table schema\n",
    "emdat_df.rename(columns={'DisNo.': 'DisNo', 'Disaster Group': 'DisasterGroup', 'Disaster Subgroup': 'DisasterSubgroup', 'Disaster Type': 'DisasterType', 'Disaster Subtype': 'DisasterSubtype', 'Event Name': 'EventName', 'Associated Types': 'AssociatedTypes', 'OFDA/BHA Response': 'USResponse','AID Contribution (\\'000 US$)': 'AidContribution', 'Magnitude Scale': 'MagnitudeScale', 'Start Year': 'StartYear', 'Start Month': 'StartMonth', 'Start Day': 'StartDay', 'End Year': 'EndYear', 'End Month': 'EndMonth', 'End Day': 'EndDay', 'Total Deaths': 'TotalDeaths', 'No. Injured': 'NoInjured', 'No. Affected': 'NoAffected', 'No. Homeless': 'NoHomeless', 'Total Affected': 'TotalAffected', 'Reconstruction Costs (\\'000 US$)': 'ReconstructionCosts', 'Reconstruction Costs, Adjusted (\\'000 US$)': 'ReconstructionCostsAdjusted', 'Insured Damage (\\'000 US$)': 'InsuredDamage', 'Insured Damage, Adjusted (\\'000 US$)': 'InsuredDamageAdjusted', 'Total Damage (\\'000 US$)': 'TotalDamage', 'Total Damage, Adjusted (\\'000 US$)': 'TotalDamageAdjusted'}, inplace=True)\n",
    "\n",
    "#Drop the 'Indicator Code' column since it's not part of the SQLite schema\n",
    "emdat_df.drop(columns=['Historic', 'Classification Key', 'External IDs', 'Subregion', 'Region', 'Location', 'Origin', 'Latitude', 'Longitude', 'River Basin', 'Admin Units', 'Entry Date', 'Last Update'], inplace=True)\n",
    "\n",
    "# Drop the DISASTERS table if it exists\n",
    "conn.execute(\"DROP TABLE IF EXISTS DISASTERS;\")\n",
    "\n",
    "# Create the DISASTERS table\n",
    "create_disasters_table = \"\"\"\n",
    "CREATE TABLE IF NOT EXISTS DISASTERS (\n",
    "    DisNo TEXT PRIMARY KEY,\n",
    "    Year INTEGER,\n",
    "    ISO TEXT,\n",
    "    Country TEXT,\n",
    "    DisasterGroup TEXT,\n",
    "    DisasterSubgroup TEXT,\n",
    "    DisasterType TEXT,\n",
    "    DisasterSubtype TEXT,\n",
    "    EventName TEXT, \n",
    "    AssociatedTypes TEXT,\n",
    "    USResponse TEXT,\n",
    "    Appeal TEXT,\n",
    "    Declaration TEXT, \n",
    "    AidContribution TEXT,\n",
    "    Magnitude REAL,\n",
    "    MagnitudeScale TEXT, \n",
    "    StartYear INTEGER,\n",
    "    StartMonth INTEGER,\n",
    "    StartDay INTEGER,\n",
    "    EndYear INTEGER,\n",
    "    EndMonth INTEGER,\n",
    "    EndDay INTEGER,\n",
    "    TotalDeaths REAL,\n",
    "    NoInjured REAL,\n",
    "    NoAffected REAL,\n",
    "    NoHomeless REAL, \n",
    "    TotalAffected REAL,\n",
    "    ReconstructionCosts REAL,\n",
    "    ReconstructionCostsAdjusted REAL,\n",
    "    InsuredDamage REAL, \n",
    "    InsuredDamageAdjusted REAL,\n",
    "    TotalDamage REAL, \n",
    "    TotalDamageAdjusted REAL,\n",
    "    CPI REAL\n",
    ");\n",
    "\"\"\"\n",
    "conn.execute(create_disasters_table)\n",
    "\n",
    "# Insert the data from the DataFrame into the DISASTERS table\n",
    "emdat_df.to_sql('DISASTERS', conn, if_exists='append', index=False)\n",
    "\n",
    "# Commit and close the connection\n",
    "conn.commit()\n",
    "conn.close()\n",
    "\n",
    "print(\"Data successfully inserted into the DISASTERS table in SQLite!\")"
   ]
  },
  {
   "cell_type": "code",
   "execution_count": 42,
   "id": "e5966e2cc2042dd3",
   "metadata": {
    "ExecuteTime": {
     "end_time": "2024-10-25T18:08:45.727483Z",
     "start_time": "2024-10-25T18:08:45.723182Z"
    }
   },
   "outputs": [
    {
     "name": "stdout",
     "output_type": "stream",
     "text": [
      "Number of columns in emdat_df: 34\n",
      "Number of rows in emdat_df: 25529\n"
     ]
    }
   ],
   "source": [
    "print(f\"Number of columns in emdat_df: {emdat_df.shape[1]}\")\n",
    "print(f\"Number of rows in emdat_df: {emdat_df.shape[0]}\")"
   ]
  },
  {
   "cell_type": "code",
   "execution_count": 44,
   "id": "f57c56c9be25738f",
   "metadata": {
    "ExecuteTime": {
     "end_time": "2024-10-25T18:09:52.657604Z",
     "start_time": "2024-10-25T18:09:52.647359Z"
    }
   },
   "outputs": [
    {
     "name": "stdout",
     "output_type": "stream",
     "text": [
      "Number of columns in DISASTERS table: 34\n",
      "Number of rows in DISASTERS table: 25529\n"
     ]
    }
   ],
   "source": [
    "#Count the number of columns in the DISASTERS table\n",
    "\n",
    "conn = sqlite3.connect('project.db')\n",
    "\n",
    "\n",
    "query_columns = \"PRAGMA table_info(DISASTERS);\"\n",
    "columns_info = conn.execute(query_columns).fetchall()\n",
    "num_columns = len(columns_info)\n",
    "print(f\"Number of columns in DISASTERS table: {num_columns}\")\n",
    "\n",
    "# Count the number of rows in the DISASTERS table\n",
    "query_rows = \"SELECT COUNT(*) FROM DISASTERS;\"\n",
    "num_rows = conn.execute(query_rows).fetchone()[0]\n",
    "print(f\"Number of rows in DISASTERS table: {num_rows}\")\n",
    "\n",
    "conn.close()\n"
   ]
  },
  {
   "cell_type": "code",
   "execution_count": null,
   "id": "a5e0f5b6fcb0139c",
   "metadata": {},
   "outputs": [],
   "source": []
  }
 ],
 "metadata": {
  "kernelspec": {
   "display_name": "Python 3.10.6 64-bit",
   "language": "python",
   "name": "python3"
  },
  "language_info": {
   "codemirror_mode": {
    "name": "ipython",
    "version": 2
   },
   "file_extension": ".py",
   "mimetype": "text/x-python",
   "name": "python",
   "nbconvert_exporter": "python",
   "pygments_lexer": "ipython2",
   "version": "3.10.6"
  },
  "vscode": {
   "interpreter": {
    "hash": "916dbcbb3f70747c44a77c7bcd40155683ae19c65e1c03b4aa3499c5328201f1"
   }
  }
 },
 "nbformat": 4,
 "nbformat_minor": 5
}
