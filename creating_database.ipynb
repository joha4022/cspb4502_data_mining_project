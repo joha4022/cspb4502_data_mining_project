{
 "cells": [
  {
   "metadata": {},
   "cell_type": "markdown",
   "source": [
    "# creating_database.ipynb\n",
    "### Author: Alexander X. Gonzalez-Torres\n",
    "**October 24, 2024**\n",
    "\n",
    "This Jupyter Notebook documents my process to combine our raw dataset, in its eponymous subdirectory,into an usable database for the project.    \n",
    "\n"
   ],
   "id": "8c027ab30f9fe7b1"
  },
  {
   "metadata": {
    "ExecuteTime": {
     "end_time": "2024-10-25T01:02:49.576083Z",
     "start_time": "2024-10-25T01:02:49.572843Z"
    }
   },
   "cell_type": "code",
   "source": [
    "## LIBRARIES USED ##\n",
    "\n",
    "import pandas as pd\n"
   ],
   "id": "5bddfb6cc1cfcc42",
   "outputs": [],
   "execution_count": 8
  },
  {
   "metadata": {},
   "cell_type": "markdown",
   "source": "**STEP 1: Trim WDICSV.csv down to countries by eliminating regions**\n",
   "id": "5dace682ae4c7fd3"
  },
  {
   "metadata": {
    "ExecuteTime": {
     "end_time": "2024-10-25T08:24:49.137782Z",
     "start_time": "2024-10-25T08:24:42.347587Z"
    }
   },
   "cell_type": "code",
   "source": [
    "# Load the CSV into a DataFrame\n",
    "wdi_csv = pd.read_csv(\"raw_dataset/WDICSV.csv\")\n",
    "\n",
    "# Find the index of the first occurrence of \"Afghanistan\" in the 'Country Name' column\n",
    "afghanistan_index = wdi_csv[wdi_csv['Country Name'] == \"Afghanistan\"].index[0]\n",
    "\n",
    "# Keep all rows starting from the index of \"Afghanistan\"\n",
    "trimmed_df = wdi_csv.loc[afghanistan_index:]\n",
    "\n",
    "# Check the result\n",
    "print(\"Numbers of rows expected after trimming: 322896.\")\n",
    "print(f\"Number of rows in DataFrame: {len(trimmed_df)}\")\n",
    "\n",
    "# Download DataFrame as .csv \n",
    "trimmed_df.to_csv(\"world_bank_processed.csv\", index=False)"
   ],
   "id": "ff24459724298c33",
   "outputs": [
    {
     "name": "stdout",
     "output_type": "stream",
     "text": [
      "Numbers of rows expected after trimming: 322896.\n",
      "Number of rows in DataFrame: 322896\n"
     ]
    }
   ],
   "execution_count": 54
  },
  {
   "metadata": {},
   "cell_type": "markdown",
   "source": "**STEP 2: Standardize dates in EM-DAT csv (YYYY)**",
   "id": "9ebccbf0f3993c00"
  },
  {
   "metadata": {
    "ExecuteTime": {
     "end_time": "2024-10-25T08:39:32.264624Z",
     "start_time": "2024-10-25T08:39:31.898442Z"
    }
   },
   "cell_type": "code",
   "source": [
    "# Load CSV into DataFrame \n",
    "\n",
    "emdat_csv = pd.read_csv(\"raw_dataset/public_emdat_custom_request_2024-10-11_b70b4036-b2bb-48b2-87db-19b38cd8140f.csv\")\n",
    "\n",
    "# Extract the first 4 characters (which correspond to the year)\n",
    "emdat_csv['Year'] = emdat_csv['DisNo.'].str[:4]\n",
    "\n",
    "# Convert the extracted year to integer\n",
    "emdat_csv['Year'] = emdat_csv['Year'].astype(int)\n",
    "\n",
    "# Place Year column next to DisNo. \n",
    "cols = emdat_csv.columns.tolist()  \n",
    "disno_index = cols.index('DisNo.')  \n",
    "cols.insert(disno_index + 1, cols.pop(cols.index('Year')))  \n",
    "emdat_csv = emdat_csv[cols]  \n",
    "\n",
    "# Check emdat_csv \n",
    "emdat_csv.head()\n",
    "\n",
    "# Download DataFrame as .csv \n",
    "emdat_csv.to_csv(\"emdat_processed.csv\", index=False)"
   ],
   "id": "1da14ad8dc02c679",
   "outputs": [],
   "execution_count": 59
  },
  {
   "metadata": {},
   "cell_type": "markdown",
   "source": "",
   "id": "67e4d02c36e4547f"
  },
  {
   "metadata": {},
   "cell_type": "markdown",
   "source": "**TENTATIVE, STEP 3: Turn WDI Indicators into columns and years into rows**",
   "id": "196ba6cc387c6585"
  },
  {
   "metadata": {
    "ExecuteTime": {
     "end_time": "2024-10-25T09:17:08.997700Z",
     "start_time": "2024-10-25T09:16:53.523618Z"
    }
   },
   "cell_type": "code",
   "source": [
    "# Step 1: Identify the columns that represent years (which should be numeric)\n",
    "year_columns = [col for col in trimmed_df.columns if col.isdigit()]\n",
    "\n",
    "# Step 2: Melt the DataFrame, ensuring that only year columns are melted\n",
    "trimmed_df_melted = pd.melt(\n",
    "    trimmed_df,\n",
    "    id_vars=['Country Name', 'Country Code', 'Indicator Name', 'Indicator Code'],  \n",
    "    value_vars=year_columns,  \n",
    "    var_name='Year',\n",
    "    value_name='Value'\n",
    ")\n",
    "\n",
    "# Convert the 'Year' column to integers (now we know it only contains year values)\n",
    "trimmed_df_melted['Year'] = trimmed_df_melted['Year'].astype(int)\n",
    "\n",
    "# Convert 'Value' column to numeric (this will turn non-numeric values into NaN)\n",
    "trimmed_df_melted['Value'] = pd.to_numeric(trimmed_df_melted['Value'], errors='coerce')\n",
    "\n",
    "# Step 3: Pivot the DataFrame so each indicator becomes its own column\n",
    "trimmed_df_pivoted = trimmed_df_melted.pivot_table(\n",
    "    index=['Country Name', 'Country Code', 'Year'],\n",
    "    columns='Indicator Name',\n",
    "    values='Value',\n",
    "    aggfunc='first'  \n",
    ")\n",
    "\n",
    "# Reset the index to make 'Country Name', 'Country Code', and 'Year' normal columns\n",
    "trimmed_df_pivoted.reset_index(inplace=True)\n",
    "\n",
    "# The DataFrame should now have 'Country Name', 'Country Code', 'Year' as the first three columns\n",
    "# and each 'Indicator Name' as its own column\n",
    "trimmed_df_pivoted.to_csv(\"world_bank_long.csv\", index=False)"
   ],
   "id": "85d2f424f7203288",
   "outputs": [
    {
     "name": "stdout",
     "output_type": "stream",
     "text": [
      "Indicator Name Country Name Country Code  Year  \\\n",
      "0               Afghanistan          AFG  1960   \n",
      "1               Afghanistan          AFG  1961   \n",
      "2               Afghanistan          AFG  1962   \n",
      "3               Afghanistan          AFG  1963   \n",
      "4               Afghanistan          AFG  1964   \n",
      "\n",
      "Indicator Name  ARI treatment (% of children under 5 taken to a health provider)  \\\n",
      "0                                                             NaN                  \n",
      "1                                                             NaN                  \n",
      "2                                                             NaN                  \n",
      "3                                                             NaN                  \n",
      "4                                                             NaN                  \n",
      "\n",
      "Indicator Name  Access to clean fuels and technologies for cooking (% of population)  \\\n",
      "0                                                             NaN                      \n",
      "1                                                             NaN                      \n",
      "2                                                             NaN                      \n",
      "3                                                             NaN                      \n",
      "4                                                             NaN                      \n",
      "\n",
      "Indicator Name  Access to clean fuels and technologies for cooking, rural (% of rural population)  \\\n",
      "0                                                             NaN                                   \n",
      "1                                                             NaN                                   \n",
      "2                                                             NaN                                   \n",
      "3                                                             NaN                                   \n",
      "4                                                             NaN                                   \n",
      "\n",
      "Indicator Name  Access to clean fuels and technologies for cooking, urban (% of urban population)  \\\n",
      "0                                                             NaN                                   \n",
      "1                                                             NaN                                   \n",
      "2                                                             NaN                                   \n",
      "3                                                             NaN                                   \n",
      "4                                                             NaN                                   \n",
      "\n",
      "Indicator Name  Access to electricity (% of population)  \\\n",
      "0                                                   NaN   \n",
      "1                                                   NaN   \n",
      "2                                                   NaN   \n",
      "3                                                   NaN   \n",
      "4                                                   NaN   \n",
      "\n",
      "Indicator Name  Access to electricity, rural (% of rural population)  \\\n",
      "0                                                             NaN      \n",
      "1                                                             NaN      \n",
      "2                                                             NaN      \n",
      "3                                                             NaN      \n",
      "4                                                             NaN      \n",
      "\n",
      "Indicator Name  Access to electricity, urban (% of urban population)  ...  \\\n",
      "0                                                             NaN     ...   \n",
      "1                                                             NaN     ...   \n",
      "2                                                             NaN     ...   \n",
      "3                                                             NaN     ...   \n",
      "4                                                             NaN     ...   \n",
      "\n",
      "Indicator Name  Women who believe a husband is justified in beating his wife (any of five reasons) (%)  \\\n",
      "0                                                             NaN                                        \n",
      "1                                                             NaN                                        \n",
      "2                                                             NaN                                        \n",
      "3                                                             NaN                                        \n",
      "4                                                             NaN                                        \n",
      "\n",
      "Indicator Name  Women who believe a husband is justified in beating his wife when she argues with him (%)  \\\n",
      "0                                                             NaN                                           \n",
      "1                                                             NaN                                           \n",
      "2                                                             NaN                                           \n",
      "3                                                             NaN                                           \n",
      "4                                                             NaN                                           \n",
      "\n",
      "Indicator Name  Women who believe a husband is justified in beating his wife when she burns the food (%)  \\\n",
      "0                                                             NaN                                          \n",
      "1                                                             NaN                                          \n",
      "2                                                             NaN                                          \n",
      "3                                                             NaN                                          \n",
      "4                                                             NaN                                          \n",
      "\n",
      "Indicator Name  Women who believe a husband is justified in beating his wife when she goes out without telling him (%)  \\\n",
      "0                                                             NaN                                                        \n",
      "1                                                             NaN                                                        \n",
      "2                                                             NaN                                                        \n",
      "3                                                             NaN                                                        \n",
      "4                                                             NaN                                                        \n",
      "\n",
      "Indicator Name  Women who believe a husband is justified in beating his wife when she neglects the children (%)  \\\n",
      "0                                                             NaN                                                 \n",
      "1                                                             NaN                                                 \n",
      "2                                                             NaN                                                 \n",
      "3                                                             NaN                                                 \n",
      "4                                                             NaN                                                 \n",
      "\n",
      "Indicator Name  Women who believe a husband is justified in beating his wife when she refuses sex with him (%)  \\\n",
      "0                                                             NaN                                                \n",
      "1                                                             NaN                                                \n",
      "2                                                             NaN                                                \n",
      "3                                                             NaN                                                \n",
      "4                                                             NaN                                                \n",
      "\n",
      "Indicator Name  Women who were first married by age 15 (% of women ages 20-24)  \\\n",
      "0                                                             NaN                \n",
      "1                                                             NaN                \n",
      "2                                                             NaN                \n",
      "3                                                             NaN                \n",
      "4                                                             NaN                \n",
      "\n",
      "Indicator Name  Women who were first married by age 18 (% of women ages 20-24)  \\\n",
      "0                                                             NaN                \n",
      "1                                                             NaN                \n",
      "2                                                             NaN                \n",
      "3                                                             NaN                \n",
      "4                                                             NaN                \n",
      "\n",
      "Indicator Name  Women's share of population ages 15+ living with HIV (%)  \\\n",
      "0                                                             NaN          \n",
      "1                                                             NaN          \n",
      "2                                                             NaN          \n",
      "3                                                             NaN          \n",
      "4                                                             NaN          \n",
      "\n",
      "Indicator Name  Young people (ages 15-24) newly infected with HIV  \n",
      "0                                                             NaN  \n",
      "1                                                             NaN  \n",
      "2                                                             NaN  \n",
      "3                                                             NaN  \n",
      "4                                                             NaN  \n",
      "\n",
      "[5 rows x 1489 columns]\n"
     ]
    }
   ],
   "execution_count": 69
  },
  {
   "metadata": {},
   "cell_type": "markdown",
   "source": "NOTE: Beyond this I'm stuck, we'll probably want to write a script that automates the time-series analysis. I don't think that a single CSV file would be most productive. ",
   "id": "f63cd30ad40833da"
  },
  {
   "metadata": {},
   "cell_type": "code",
   "outputs": [],
   "execution_count": null,
   "source": "",
   "id": "77da510432851335"
  }
 ],
 "metadata": {
  "kernelspec": {
   "display_name": "Python 3",
   "language": "python",
   "name": "python3"
  },
  "language_info": {
   "codemirror_mode": {
    "name": "ipython",
    "version": 2
   },
   "file_extension": ".py",
   "mimetype": "text/x-python",
   "name": "python",
   "nbconvert_exporter": "python",
   "pygments_lexer": "ipython2",
   "version": "2.7.6"
  }
 },
 "nbformat": 4,
 "nbformat_minor": 5
}
