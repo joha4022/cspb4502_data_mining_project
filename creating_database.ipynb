{
 "cells": [
  {
   "metadata": {},
   "cell_type": "markdown",
   "source": [
    "# creating_database.ipynb\n",
    "### Author: Alexander X. Gonzalez-Torres\n",
    "**October 24, 2024**\n",
    "\n",
    "This Jupyter Notebook documents my process to combine our raw dataset, in its eponymous subdirectory,into an usable database for the project.    \n",
    "\n"
   ],
   "id": "8c027ab30f9fe7b1"
  },
  {
   "metadata": {
    "ExecuteTime": {
     "end_time": "2024-10-25T11:17:08.181474Z",
     "start_time": "2024-10-25T11:17:07.898161Z"
    }
   },
   "cell_type": "code",
   "source": [
    "## LIBRARIES USED ##\n",
    "\n",
    "import pandas as pd\n",
    "import sqlite3\n"
   ],
   "id": "5bddfb6cc1cfcc42",
   "outputs": [],
   "execution_count": 1
  },
  {
   "metadata": {},
   "cell_type": "markdown",
   "source": "**STEP 1: Trim WDICSV.csv down to countries by eliminating regions**\n",
   "id": "5dace682ae4c7fd3"
  },
  {
   "metadata": {
    "ExecuteTime": {
     "end_time": "2024-10-25T11:17:15.275123Z",
     "start_time": "2024-10-25T11:17:08.182576Z"
    }
   },
   "cell_type": "code",
   "source": [
    "# Load the CSV into a DataFrame\n",
    "wdi_csv = pd.read_csv(\"raw_dataset/WDICSV.csv\")\n",
    "\n",
    "# Find the index of the first occurrence of \"Afghanistan\" in the 'Country Name' column\n",
    "afghanistan_index = wdi_csv[wdi_csv['Country Name'] == \"Afghanistan\"].index[0]\n",
    "\n",
    "# Keep all rows starting from the index of \"Afghanistan\"\n",
    "trimmed_df = wdi_csv.loc[afghanistan_index:]\n",
    "\n",
    "# Check the result\n",
    "print(\"Numbers of rows expected after trimming: 322896.\")\n",
    "print(f\"Number of rows in DataFrame: {len(trimmed_df)}\")\n",
    "\n",
    "# Download DataFrame as .csv \n",
    "trimmed_df.to_csv(\"world_bank_processed.csv\", index=False)"
   ],
   "id": "ff24459724298c33",
   "outputs": [
    {
     "name": "stdout",
     "output_type": "stream",
     "text": [
      "Numbers of rows expected after trimming: 322896.\n",
      "Number of rows in DataFrame: 322896\n"
     ]
    }
   ],
   "execution_count": 2
  },
  {
   "metadata": {},
   "cell_type": "markdown",
   "source": "**STEP 2: Standardize dates in EM-DAT csv (YYYY)**",
   "id": "9ebccbf0f3993c00"
  },
  {
   "metadata": {
    "ExecuteTime": {
     "end_time": "2024-10-25T11:17:15.579374Z",
     "start_time": "2024-10-25T11:17:15.275780Z"
    }
   },
   "cell_type": "code",
   "source": [
    "# Load CSV into DataFrame \n",
    "\n",
    "emdat_csv = pd.read_csv(\"raw_dataset/public_emdat_custom_request_2024-10-11_b70b4036-b2bb-48b2-87db-19b38cd8140f.csv\")\n",
    "\n",
    "# Extract the first 4 characters (which correspond to the year)\n",
    "emdat_csv['Year'] = emdat_csv['DisNo.'].str[:4]\n",
    "\n",
    "# Convert the extracted year to integer\n",
    "emdat_csv['Year'] = emdat_csv['Year'].astype(int)\n",
    "\n",
    "# Place Year column next to DisNo. \n",
    "cols = emdat_csv.columns.tolist()  \n",
    "disno_index = cols.index('DisNo.')  \n",
    "cols.insert(disno_index + 1, cols.pop(cols.index('Year')))  \n",
    "emdat_csv = emdat_csv[cols]  \n",
    "\n",
    "# Check emdat_csv \n",
    "emdat_csv.head()\n",
    "\n",
    "# Download DataFrame as .csv \n",
    "emdat_csv.to_csv(\"emdat_processed.csv\", index=False)"
   ],
   "id": "1da14ad8dc02c679",
   "outputs": [
    {
     "ename": "FileNotFoundError",
     "evalue": "[Errno 2] No such file or directory: 'raw_dataset/public_emdat_custom_request_2024-10-11_b70b4036-b2bb-48b2-87db-19b38cd8140f.csv'",
     "output_type": "error",
     "traceback": [
      "\u001B[0;31m---------------------------------------------------------------------------\u001B[0m",
      "\u001B[0;31mFileNotFoundError\u001B[0m                         Traceback (most recent call last)",
      "Cell \u001B[0;32mIn[3], line 3\u001B[0m\n\u001B[1;32m      1\u001B[0m \u001B[38;5;66;03m# Load CSV into DataFrame \u001B[39;00m\n\u001B[0;32m----> 3\u001B[0m emdat_csv \u001B[38;5;241m=\u001B[39m \u001B[43mpd\u001B[49m\u001B[38;5;241;43m.\u001B[39;49m\u001B[43mread_csv\u001B[49m\u001B[43m(\u001B[49m\u001B[38;5;124;43m\"\u001B[39;49m\u001B[38;5;124;43mraw_dataset/public_emdat_custom_request_2024-10-11_b70b4036-b2bb-48b2-87db-19b38cd8140f.csv\u001B[39;49m\u001B[38;5;124;43m\"\u001B[39;49m\u001B[43m)\u001B[49m\n\u001B[1;32m      5\u001B[0m \u001B[38;5;66;03m# Extract the first 4 characters (which correspond to the year)\u001B[39;00m\n\u001B[1;32m      6\u001B[0m emdat_csv[\u001B[38;5;124m'\u001B[39m\u001B[38;5;124mYear\u001B[39m\u001B[38;5;124m'\u001B[39m] \u001B[38;5;241m=\u001B[39m emdat_csv[\u001B[38;5;124m'\u001B[39m\u001B[38;5;124mDisNo.\u001B[39m\u001B[38;5;124m'\u001B[39m]\u001B[38;5;241m.\u001B[39mstr[:\u001B[38;5;241m4\u001B[39m]\n",
      "File \u001B[0;32m~/Desktop/data_mining/venv/lib/python3.9/site-packages/pandas/io/parsers/readers.py:1026\u001B[0m, in \u001B[0;36mread_csv\u001B[0;34m(filepath_or_buffer, sep, delimiter, header, names, index_col, usecols, dtype, engine, converters, true_values, false_values, skipinitialspace, skiprows, skipfooter, nrows, na_values, keep_default_na, na_filter, verbose, skip_blank_lines, parse_dates, infer_datetime_format, keep_date_col, date_parser, date_format, dayfirst, cache_dates, iterator, chunksize, compression, thousands, decimal, lineterminator, quotechar, quoting, doublequote, escapechar, comment, encoding, encoding_errors, dialect, on_bad_lines, delim_whitespace, low_memory, memory_map, float_precision, storage_options, dtype_backend)\u001B[0m\n\u001B[1;32m   1013\u001B[0m kwds_defaults \u001B[38;5;241m=\u001B[39m _refine_defaults_read(\n\u001B[1;32m   1014\u001B[0m     dialect,\n\u001B[1;32m   1015\u001B[0m     delimiter,\n\u001B[0;32m   (...)\u001B[0m\n\u001B[1;32m   1022\u001B[0m     dtype_backend\u001B[38;5;241m=\u001B[39mdtype_backend,\n\u001B[1;32m   1023\u001B[0m )\n\u001B[1;32m   1024\u001B[0m kwds\u001B[38;5;241m.\u001B[39mupdate(kwds_defaults)\n\u001B[0;32m-> 1026\u001B[0m \u001B[38;5;28;01mreturn\u001B[39;00m \u001B[43m_read\u001B[49m\u001B[43m(\u001B[49m\u001B[43mfilepath_or_buffer\u001B[49m\u001B[43m,\u001B[49m\u001B[43m \u001B[49m\u001B[43mkwds\u001B[49m\u001B[43m)\u001B[49m\n",
      "File \u001B[0;32m~/Desktop/data_mining/venv/lib/python3.9/site-packages/pandas/io/parsers/readers.py:620\u001B[0m, in \u001B[0;36m_read\u001B[0;34m(filepath_or_buffer, kwds)\u001B[0m\n\u001B[1;32m    617\u001B[0m _validate_names(kwds\u001B[38;5;241m.\u001B[39mget(\u001B[38;5;124m\"\u001B[39m\u001B[38;5;124mnames\u001B[39m\u001B[38;5;124m\"\u001B[39m, \u001B[38;5;28;01mNone\u001B[39;00m))\n\u001B[1;32m    619\u001B[0m \u001B[38;5;66;03m# Create the parser.\u001B[39;00m\n\u001B[0;32m--> 620\u001B[0m parser \u001B[38;5;241m=\u001B[39m \u001B[43mTextFileReader\u001B[49m\u001B[43m(\u001B[49m\u001B[43mfilepath_or_buffer\u001B[49m\u001B[43m,\u001B[49m\u001B[43m \u001B[49m\u001B[38;5;241;43m*\u001B[39;49m\u001B[38;5;241;43m*\u001B[39;49m\u001B[43mkwds\u001B[49m\u001B[43m)\u001B[49m\n\u001B[1;32m    622\u001B[0m \u001B[38;5;28;01mif\u001B[39;00m chunksize \u001B[38;5;129;01mor\u001B[39;00m iterator:\n\u001B[1;32m    623\u001B[0m     \u001B[38;5;28;01mreturn\u001B[39;00m parser\n",
      "File \u001B[0;32m~/Desktop/data_mining/venv/lib/python3.9/site-packages/pandas/io/parsers/readers.py:1620\u001B[0m, in \u001B[0;36mTextFileReader.__init__\u001B[0;34m(self, f, engine, **kwds)\u001B[0m\n\u001B[1;32m   1617\u001B[0m     \u001B[38;5;28mself\u001B[39m\u001B[38;5;241m.\u001B[39moptions[\u001B[38;5;124m\"\u001B[39m\u001B[38;5;124mhas_index_names\u001B[39m\u001B[38;5;124m\"\u001B[39m] \u001B[38;5;241m=\u001B[39m kwds[\u001B[38;5;124m\"\u001B[39m\u001B[38;5;124mhas_index_names\u001B[39m\u001B[38;5;124m\"\u001B[39m]\n\u001B[1;32m   1619\u001B[0m \u001B[38;5;28mself\u001B[39m\u001B[38;5;241m.\u001B[39mhandles: IOHandles \u001B[38;5;241m|\u001B[39m \u001B[38;5;28;01mNone\u001B[39;00m \u001B[38;5;241m=\u001B[39m \u001B[38;5;28;01mNone\u001B[39;00m\n\u001B[0;32m-> 1620\u001B[0m \u001B[38;5;28mself\u001B[39m\u001B[38;5;241m.\u001B[39m_engine \u001B[38;5;241m=\u001B[39m \u001B[38;5;28;43mself\u001B[39;49m\u001B[38;5;241;43m.\u001B[39;49m\u001B[43m_make_engine\u001B[49m\u001B[43m(\u001B[49m\u001B[43mf\u001B[49m\u001B[43m,\u001B[49m\u001B[43m \u001B[49m\u001B[38;5;28;43mself\u001B[39;49m\u001B[38;5;241;43m.\u001B[39;49m\u001B[43mengine\u001B[49m\u001B[43m)\u001B[49m\n",
      "File \u001B[0;32m~/Desktop/data_mining/venv/lib/python3.9/site-packages/pandas/io/parsers/readers.py:1880\u001B[0m, in \u001B[0;36mTextFileReader._make_engine\u001B[0;34m(self, f, engine)\u001B[0m\n\u001B[1;32m   1878\u001B[0m     \u001B[38;5;28;01mif\u001B[39;00m \u001B[38;5;124m\"\u001B[39m\u001B[38;5;124mb\u001B[39m\u001B[38;5;124m\"\u001B[39m \u001B[38;5;129;01mnot\u001B[39;00m \u001B[38;5;129;01min\u001B[39;00m mode:\n\u001B[1;32m   1879\u001B[0m         mode \u001B[38;5;241m+\u001B[39m\u001B[38;5;241m=\u001B[39m \u001B[38;5;124m\"\u001B[39m\u001B[38;5;124mb\u001B[39m\u001B[38;5;124m\"\u001B[39m\n\u001B[0;32m-> 1880\u001B[0m \u001B[38;5;28mself\u001B[39m\u001B[38;5;241m.\u001B[39mhandles \u001B[38;5;241m=\u001B[39m \u001B[43mget_handle\u001B[49m\u001B[43m(\u001B[49m\n\u001B[1;32m   1881\u001B[0m \u001B[43m    \u001B[49m\u001B[43mf\u001B[49m\u001B[43m,\u001B[49m\n\u001B[1;32m   1882\u001B[0m \u001B[43m    \u001B[49m\u001B[43mmode\u001B[49m\u001B[43m,\u001B[49m\n\u001B[1;32m   1883\u001B[0m \u001B[43m    \u001B[49m\u001B[43mencoding\u001B[49m\u001B[38;5;241;43m=\u001B[39;49m\u001B[38;5;28;43mself\u001B[39;49m\u001B[38;5;241;43m.\u001B[39;49m\u001B[43moptions\u001B[49m\u001B[38;5;241;43m.\u001B[39;49m\u001B[43mget\u001B[49m\u001B[43m(\u001B[49m\u001B[38;5;124;43m\"\u001B[39;49m\u001B[38;5;124;43mencoding\u001B[39;49m\u001B[38;5;124;43m\"\u001B[39;49m\u001B[43m,\u001B[49m\u001B[43m \u001B[49m\u001B[38;5;28;43;01mNone\u001B[39;49;00m\u001B[43m)\u001B[49m\u001B[43m,\u001B[49m\n\u001B[1;32m   1884\u001B[0m \u001B[43m    \u001B[49m\u001B[43mcompression\u001B[49m\u001B[38;5;241;43m=\u001B[39;49m\u001B[38;5;28;43mself\u001B[39;49m\u001B[38;5;241;43m.\u001B[39;49m\u001B[43moptions\u001B[49m\u001B[38;5;241;43m.\u001B[39;49m\u001B[43mget\u001B[49m\u001B[43m(\u001B[49m\u001B[38;5;124;43m\"\u001B[39;49m\u001B[38;5;124;43mcompression\u001B[39;49m\u001B[38;5;124;43m\"\u001B[39;49m\u001B[43m,\u001B[49m\u001B[43m \u001B[49m\u001B[38;5;28;43;01mNone\u001B[39;49;00m\u001B[43m)\u001B[49m\u001B[43m,\u001B[49m\n\u001B[1;32m   1885\u001B[0m \u001B[43m    \u001B[49m\u001B[43mmemory_map\u001B[49m\u001B[38;5;241;43m=\u001B[39;49m\u001B[38;5;28;43mself\u001B[39;49m\u001B[38;5;241;43m.\u001B[39;49m\u001B[43moptions\u001B[49m\u001B[38;5;241;43m.\u001B[39;49m\u001B[43mget\u001B[49m\u001B[43m(\u001B[49m\u001B[38;5;124;43m\"\u001B[39;49m\u001B[38;5;124;43mmemory_map\u001B[39;49m\u001B[38;5;124;43m\"\u001B[39;49m\u001B[43m,\u001B[49m\u001B[43m \u001B[49m\u001B[38;5;28;43;01mFalse\u001B[39;49;00m\u001B[43m)\u001B[49m\u001B[43m,\u001B[49m\n\u001B[1;32m   1886\u001B[0m \u001B[43m    \u001B[49m\u001B[43mis_text\u001B[49m\u001B[38;5;241;43m=\u001B[39;49m\u001B[43mis_text\u001B[49m\u001B[43m,\u001B[49m\n\u001B[1;32m   1887\u001B[0m \u001B[43m    \u001B[49m\u001B[43merrors\u001B[49m\u001B[38;5;241;43m=\u001B[39;49m\u001B[38;5;28;43mself\u001B[39;49m\u001B[38;5;241;43m.\u001B[39;49m\u001B[43moptions\u001B[49m\u001B[38;5;241;43m.\u001B[39;49m\u001B[43mget\u001B[49m\u001B[43m(\u001B[49m\u001B[38;5;124;43m\"\u001B[39;49m\u001B[38;5;124;43mencoding_errors\u001B[39;49m\u001B[38;5;124;43m\"\u001B[39;49m\u001B[43m,\u001B[49m\u001B[43m \u001B[49m\u001B[38;5;124;43m\"\u001B[39;49m\u001B[38;5;124;43mstrict\u001B[39;49m\u001B[38;5;124;43m\"\u001B[39;49m\u001B[43m)\u001B[49m\u001B[43m,\u001B[49m\n\u001B[1;32m   1888\u001B[0m \u001B[43m    \u001B[49m\u001B[43mstorage_options\u001B[49m\u001B[38;5;241;43m=\u001B[39;49m\u001B[38;5;28;43mself\u001B[39;49m\u001B[38;5;241;43m.\u001B[39;49m\u001B[43moptions\u001B[49m\u001B[38;5;241;43m.\u001B[39;49m\u001B[43mget\u001B[49m\u001B[43m(\u001B[49m\u001B[38;5;124;43m\"\u001B[39;49m\u001B[38;5;124;43mstorage_options\u001B[39;49m\u001B[38;5;124;43m\"\u001B[39;49m\u001B[43m,\u001B[49m\u001B[43m \u001B[49m\u001B[38;5;28;43;01mNone\u001B[39;49;00m\u001B[43m)\u001B[49m\u001B[43m,\u001B[49m\n\u001B[1;32m   1889\u001B[0m \u001B[43m\u001B[49m\u001B[43m)\u001B[49m\n\u001B[1;32m   1890\u001B[0m \u001B[38;5;28;01massert\u001B[39;00m \u001B[38;5;28mself\u001B[39m\u001B[38;5;241m.\u001B[39mhandles \u001B[38;5;129;01mis\u001B[39;00m \u001B[38;5;129;01mnot\u001B[39;00m \u001B[38;5;28;01mNone\u001B[39;00m\n\u001B[1;32m   1891\u001B[0m f \u001B[38;5;241m=\u001B[39m \u001B[38;5;28mself\u001B[39m\u001B[38;5;241m.\u001B[39mhandles\u001B[38;5;241m.\u001B[39mhandle\n",
      "File \u001B[0;32m~/Desktop/data_mining/venv/lib/python3.9/site-packages/pandas/io/common.py:873\u001B[0m, in \u001B[0;36mget_handle\u001B[0;34m(path_or_buf, mode, encoding, compression, memory_map, is_text, errors, storage_options)\u001B[0m\n\u001B[1;32m    868\u001B[0m \u001B[38;5;28;01melif\u001B[39;00m \u001B[38;5;28misinstance\u001B[39m(handle, \u001B[38;5;28mstr\u001B[39m):\n\u001B[1;32m    869\u001B[0m     \u001B[38;5;66;03m# Check whether the filename is to be opened in binary mode.\u001B[39;00m\n\u001B[1;32m    870\u001B[0m     \u001B[38;5;66;03m# Binary mode does not support 'encoding' and 'newline'.\u001B[39;00m\n\u001B[1;32m    871\u001B[0m     \u001B[38;5;28;01mif\u001B[39;00m ioargs\u001B[38;5;241m.\u001B[39mencoding \u001B[38;5;129;01mand\u001B[39;00m \u001B[38;5;124m\"\u001B[39m\u001B[38;5;124mb\u001B[39m\u001B[38;5;124m\"\u001B[39m \u001B[38;5;129;01mnot\u001B[39;00m \u001B[38;5;129;01min\u001B[39;00m ioargs\u001B[38;5;241m.\u001B[39mmode:\n\u001B[1;32m    872\u001B[0m         \u001B[38;5;66;03m# Encoding\u001B[39;00m\n\u001B[0;32m--> 873\u001B[0m         handle \u001B[38;5;241m=\u001B[39m \u001B[38;5;28;43mopen\u001B[39;49m\u001B[43m(\u001B[49m\n\u001B[1;32m    874\u001B[0m \u001B[43m            \u001B[49m\u001B[43mhandle\u001B[49m\u001B[43m,\u001B[49m\n\u001B[1;32m    875\u001B[0m \u001B[43m            \u001B[49m\u001B[43mioargs\u001B[49m\u001B[38;5;241;43m.\u001B[39;49m\u001B[43mmode\u001B[49m\u001B[43m,\u001B[49m\n\u001B[1;32m    876\u001B[0m \u001B[43m            \u001B[49m\u001B[43mencoding\u001B[49m\u001B[38;5;241;43m=\u001B[39;49m\u001B[43mioargs\u001B[49m\u001B[38;5;241;43m.\u001B[39;49m\u001B[43mencoding\u001B[49m\u001B[43m,\u001B[49m\n\u001B[1;32m    877\u001B[0m \u001B[43m            \u001B[49m\u001B[43merrors\u001B[49m\u001B[38;5;241;43m=\u001B[39;49m\u001B[43merrors\u001B[49m\u001B[43m,\u001B[49m\n\u001B[1;32m    878\u001B[0m \u001B[43m            \u001B[49m\u001B[43mnewline\u001B[49m\u001B[38;5;241;43m=\u001B[39;49m\u001B[38;5;124;43m\"\u001B[39;49m\u001B[38;5;124;43m\"\u001B[39;49m\u001B[43m,\u001B[49m\n\u001B[1;32m    879\u001B[0m \u001B[43m        \u001B[49m\u001B[43m)\u001B[49m\n\u001B[1;32m    880\u001B[0m     \u001B[38;5;28;01melse\u001B[39;00m:\n\u001B[1;32m    881\u001B[0m         \u001B[38;5;66;03m# Binary mode\u001B[39;00m\n\u001B[1;32m    882\u001B[0m         handle \u001B[38;5;241m=\u001B[39m \u001B[38;5;28mopen\u001B[39m(handle, ioargs\u001B[38;5;241m.\u001B[39mmode)\n",
      "\u001B[0;31mFileNotFoundError\u001B[0m: [Errno 2] No such file or directory: 'raw_dataset/public_emdat_custom_request_2024-10-11_b70b4036-b2bb-48b2-87db-19b38cd8140f.csv'"
     ]
    }
   ],
   "execution_count": 3
  },
  {
   "metadata": {},
   "cell_type": "markdown",
   "source": "",
   "id": "67e4d02c36e4547f"
  },
  {
   "metadata": {},
   "cell_type": "markdown",
   "source": "**TENTATIVE, STEP 3: Turn WDI Indicators into columns and years into rows**",
   "id": "196ba6cc387c6585"
  },
  {
   "metadata": {},
   "cell_type": "code",
   "source": [
    "# Step 1: Identify the columns that represent years (which should be numeric)\n",
    "year_columns = [col for col in trimmed_df.columns if col.isdigit()]\n",
    "\n",
    "# Step 2: Melt the DataFrame, ensuring that only year columns are melted\n",
    "trimmed_df_melted = pd.melt(\n",
    "    trimmed_df,\n",
    "    id_vars=['Country Name', 'Country Code', 'Indicator Name', 'Indicator Code'],  \n",
    "    value_vars=year_columns,  \n",
    "    var_name='Year',\n",
    "    value_name='Value'\n",
    ")\n",
    "\n",
    "# Convert the 'Year' column to integers (now we know it only contains year values)\n",
    "trimmed_df_melted['Year'] = trimmed_df_melted['Year'].astype(int)\n",
    "\n",
    "# Convert 'Value' column to numeric (this will turn non-numeric values into NaN)\n",
    "trimmed_df_melted['Value'] = pd.to_numeric(trimmed_df_melted['Value'], errors='coerce')\n",
    "\n",
    "# Step 3: Pivot the DataFrame so each indicator becomes its own column\n",
    "trimmed_df_pivoted = trimmed_df_melted.pivot_table(\n",
    "    index=['Country Name', 'Country Code', 'Year'],\n",
    "    columns='Indicator Name',\n",
    "    values='Value',\n",
    "    aggfunc='first'  \n",
    ")\n",
    "\n",
    "# Reset the index to make 'Country Name', 'Country Code', and 'Year' normal columns\n",
    "trimmed_df_pivoted.reset_index(inplace=True)\n",
    "\n",
    "# The DataFrame should now have 'Country Name', 'Country Code', 'Year' as the first three columns\n",
    "# and each 'Indicator Name' as its own column\n",
    "trimmed_df_pivoted.to_csv(\"world_bank_long.csv\", index=False)"
   ],
   "id": "85d2f424f7203288",
   "outputs": [],
   "execution_count": null
  },
  {
   "metadata": {},
   "cell_type": "markdown",
   "source": "NOTE: Beyond this I'm stuck, we'll probably want to write a script that automates the time-series analysis. I don't think that a single CSV file would be most productive. ",
   "id": "f63cd30ad40833da"
  },
  {
   "metadata": {},
   "cell_type": "markdown",
   "source": "**STEP 4: NEW IDEA, SQL**",
   "id": "a66409622e15ed52"
  },
  {
   "metadata": {
    "ExecuteTime": {
     "end_time": "2024-10-25T17:21:28.931756Z",
     "start_time": "2024-10-25T17:20:42.601210Z"
    }
   },
   "cell_type": "code",
   "source": [
    "## Let's make a project.db\n",
    "\n",
    "\n",
    "# Load the wide-format economic CSV\n",
    "econ_wide_df = pd.read_csv('./dataset_processed/world_bank_processed.csv')\n",
    "\n",
    "# Reshape the economic data from wide to long format\n",
    "econ_long_df = pd.melt(econ_wide_df,\n",
    "                       id_vars=['Country Name', 'Country Code', 'Indicator Name', 'Indicator Code'],\n",
    "                       var_name='Year',  # This will create the 'Year' column\n",
    "                       value_name='Indicator Value')  # The value of each year\n",
    "\n",
    "# Convert the 'Year' column to an integer\n",
    "econ_long_df['Year'] = econ_long_df['Year'].astype(int)\n",
    "\n",
    "# Rename the columns in the DataFrame to match the table schema\n",
    "econ_long_df.rename(columns={'Country Name': 'CountryName', 'Country Code': 'CountryCode', 'Indicator Name': 'IndicatorName', 'Indicator Value': 'IndicatorValue'}, inplace=True)\n",
    "\n",
    "#Drop the 'Indicator Code' column since it's not part of the SQLite schema\n",
    "econ_long_df.drop(columns=['Indicator Code'], inplace=True)\n",
    "\n",
    "#Connect to SQLite database\n",
    "conn = sqlite3.connect('project.db')\n",
    "\n",
    "# Create the WDI table\n",
    "create_economic_table = \"\"\"\n",
    "CREATE TABLE IF NOT EXISTS WDI (\n",
    "    CountryCode TEXT,\n",
    "    CountryName TEXT,\n",
    "    Year INTEGER,\n",
    "    IndicatorName TEXT,\n",
    "    IndicatorValue REAL,\n",
    "    PRIMARY KEY (CountryCode, Year, IndicatorName)\n",
    ");\n",
    "\"\"\"\n",
    "conn.execute(create_economic_table)\n",
    "\n",
    "# Insert the reshaped data into SQLite\n",
    "econ_long_df.to_sql('WDI', conn, if_exists='append', index=False)\n",
    "\n",
    "# Commit and close the connection\n",
    "conn.commit()\n",
    "conn.close()\n",
    "\n",
    "print(\"Data successfully inserted into the SQLite database!\") "
   ],
   "id": "b9a2c8a3ef667d94",
   "outputs": [
    {
     "name": "stdout",
     "output_type": "stream",
     "text": [
      "Data successfully inserted into the SQLite database!\n"
     ]
    }
   ],
   "execution_count": 29
  },
  {
   "metadata": {
    "ExecuteTime": {
     "end_time": "2024-10-25T17:22:19.310006Z",
     "start_time": "2024-10-25T17:22:13.059772Z"
    }
   },
   "cell_type": "code",
   "source": [
    "## Test project.db integrity \n",
    "\n",
    "conn = sqlite3.connect('project.db')\n",
    "\n",
    "# Query to count the number of rows in the economics table\n",
    "query = \"SELECT COUNT(*) FROM WDI;\"\n",
    "cursor = conn.cursor()\n",
    "cursor.execute(query)\n",
    "\n",
    "# Fetch the result\n",
    "row_count = cursor.fetchone()[0]\n",
    "\n",
    "# Print the result\n",
    "print(f\"Number of rows in the SQLite database: {row_count}\")\n",
    "print(f\"Number of rows in the DataFrame: {len(econ_long_df)}\")\n",
    "\n",
    "# Close the connection\n",
    "conn.close()\n"
   ],
   "id": "202bc96e50072c98",
   "outputs": [
    {
     "name": "stdout",
     "output_type": "stream",
     "text": [
      "Number of rows in the SQLite database: 20665344\n",
      "Number of rows in the DataFrame: 20665344\n"
     ]
    }
   ],
   "execution_count": 30
  },
  {
   "metadata": {
    "ExecuteTime": {
     "end_time": "2024-10-25T18:05:27.881083Z",
     "start_time": "2024-10-25T18:05:27.590744Z"
    }
   },
   "cell_type": "code",
   "source": [
    "import sqlite3\n",
    "import pandas as pd\n",
    "\n",
    "# Load the emdat_processed CSV into a pandas DataFrame\n",
    "emdat_df = pd.read_csv('./dataset_processed/emdat_processed.csv')\n",
    "\n",
    "# Connect to the SQLite database (project.db)\n",
    "conn = sqlite3.connect('project.db')\n",
    "\n",
    "# Rename the columns in the DataFrame to match the table schema\n",
    "emdat_df.rename(columns={'DisNo.': 'DisNo', 'Disaster Group': 'DisasterGroup', 'Disaster Subgroup': 'DisasterSubgroup', 'Disaster Type': 'DisasterType', 'Disaster Subtype': 'DisasterSubtype', 'Event Name': 'EventName', 'Associated Types': 'AssociatedTypes', 'OFDA/BHA Response': 'USResponse','AID Contribution (\\'000 US$)': 'AidContribution', 'Magnitude Scale': 'MagnitudeScale', 'Start Year': 'StartYear', 'Start Month': 'StartMonth', 'Start Day': 'StartDay', 'End Year': 'EndYear', 'End Month': 'EndMonth', 'End Day': 'EndDay', 'Total Deaths': 'TotalDeaths', 'No. Injured': 'NoInjured', 'No. Affected': 'NoAffected', 'No. Homeless': 'NoHomeless', 'Total Affected': 'TotalAffected', 'Reconstruction Costs (\\'000 US$)': 'ReconstructionCosts', 'Reconstruction Costs, Adjusted (\\'000 US$)': 'ReconstructionCostsAdjusted', 'Insured Damage (\\'000 US$)': 'InsuredDamage', 'Insured Damage, Adjusted (\\'000 US$)': 'InsuredDamageAdjusted', 'Total Damage (\\'000 US$)': 'TotalDamage', 'Total Damage, Adjusted (\\'000 US$)': 'TotalDamageAdjusted'}, inplace=True)\n",
    "\n",
    "#Drop the 'Indicator Code' column since it's not part of the SQLite schema\n",
    "emdat_df.drop(columns=['Historic', 'Classification Key', 'External IDs', 'Subregion', 'Region', 'Location', 'Origin', 'Latitude', 'Longitude', 'River Basin', 'Admin Units', 'Entry Date', 'Last Update'], inplace=True)\n",
    "\n",
    "# Drop the DISASTERS table if it exists\n",
    "conn.execute(\"DROP TABLE IF EXISTS DISASTERS;\")\n",
    "\n",
    "# Create the DISASTERS table\n",
    "create_disasters_table = \"\"\"\n",
    "CREATE TABLE IF NOT EXISTS DISASTERS (\n",
    "    DisNo TEXT PRIMARY KEY,\n",
    "    Year INTEGER,\n",
    "    ISO TEXT,\n",
    "    Country TEXT,\n",
    "    DisasterGroup TEXT,\n",
    "    DisasterSubgroup TEXT,\n",
    "    DisasterType TEXT,\n",
    "    DisasterSubtype TEXT,\n",
    "    EventName TEXT, \n",
    "    AssociatedTypes TEXT,\n",
    "    USResponse TEXT,\n",
    "    Appeal TEXT,\n",
    "    Declaration TEXT, \n",
    "    AidContribution TEXT,\n",
    "    Magnitude REAL,\n",
    "    MagnitudeScale TEXT, \n",
    "    StartYear INTEGER,\n",
    "    StartMonth INTEGER,\n",
    "    StartDay INTEGER,\n",
    "    EndYear INTEGER,\n",
    "    EndMonth INTEGER,\n",
    "    EndDay INTEGER,\n",
    "    TotalDeaths REAL,\n",
    "    NoInjured REAL,\n",
    "    NoAffected REAL,\n",
    "    NoHomeless REAL, \n",
    "    TotalAffected REAL,\n",
    "    ReconstructionCosts REAL,\n",
    "    ReconstructionCostsAdjusted REAL,\n",
    "    InsuredDamage REAL, \n",
    "    InsuredDamageAdjusted REAL,\n",
    "    TotalDamage REAL, \n",
    "    TotalDamageAdjusted REAL,\n",
    "    CPI REAL\n",
    ");\n",
    "\"\"\"\n",
    "conn.execute(create_disasters_table)\n",
    "\n",
    "# Insert the data from the DataFrame into the DISASTERS table\n",
    "emdat_df.to_sql('DISASTERS', conn, if_exists='append', index=False)\n",
    "\n",
    "# Commit and close the connection\n",
    "conn.commit()\n",
    "conn.close()\n",
    "\n",
    "print(\"Data successfully inserted into the DISASTERS table in SQLite!\")"
   ],
   "id": "b66108a32429b977",
   "outputs": [
    {
     "name": "stdout",
     "output_type": "stream",
     "text": [
      "Data successfully inserted into the DISASTERS table in SQLite!\n"
     ]
    }
   ],
   "execution_count": 41
  },
  {
   "metadata": {
    "ExecuteTime": {
     "end_time": "2024-10-25T18:08:45.727483Z",
     "start_time": "2024-10-25T18:08:45.723182Z"
    }
   },
   "cell_type": "code",
   "source": [
    "print(f\"Number of columns in emdat_df: {emdat_df.shape[1]}\")\n",
    "print(f\"Number of rows in emdat_df: {emdat_df.shape[0]}\")"
   ],
   "id": "e5966e2cc2042dd3",
   "outputs": [
    {
     "name": "stdout",
     "output_type": "stream",
     "text": [
      "Number of columns in emdat_df: 34\n",
      "Number of rows in emdat_df: 25529\n"
     ]
    }
   ],
   "execution_count": 42
  },
  {
   "metadata": {
    "ExecuteTime": {
     "end_time": "2024-10-25T18:09:52.657604Z",
     "start_time": "2024-10-25T18:09:52.647359Z"
    }
   },
   "cell_type": "code",
   "source": [
    "#Count the number of columns in the DISASTERS table\n",
    "\n",
    "conn = sqlite3.connect('project.db')\n",
    "\n",
    "\n",
    "query_columns = \"PRAGMA table_info(DISASTERS);\"\n",
    "columns_info = conn.execute(query_columns).fetchall()\n",
    "num_columns = len(columns_info)\n",
    "print(f\"Number of columns in DISASTERS table: {num_columns}\")\n",
    "\n",
    "# Count the number of rows in the DISASTERS table\n",
    "query_rows = \"SELECT COUNT(*) FROM DISASTERS;\"\n",
    "num_rows = conn.execute(query_rows).fetchone()[0]\n",
    "print(f\"Number of rows in DISASTERS table: {num_rows}\")\n",
    "\n",
    "conn.close()\n"
   ],
   "id": "f57c56c9be25738f",
   "outputs": [
    {
     "name": "stdout",
     "output_type": "stream",
     "text": [
      "Number of columns in DISASTERS table: 34\n",
      "Number of rows in DISASTERS table: 25529\n"
     ]
    }
   ],
   "execution_count": 44
  },
  {
   "metadata": {},
   "cell_type": "code",
   "outputs": [],
   "execution_count": null,
   "source": "",
   "id": "a5e0f5b6fcb0139c"
  }
 ],
 "metadata": {
  "kernelspec": {
   "display_name": "Python 3",
   "language": "python",
   "name": "python3"
  },
  "language_info": {
   "codemirror_mode": {
    "name": "ipython",
    "version": 2
   },
   "file_extension": ".py",
   "mimetype": "text/x-python",
   "name": "python",
   "nbconvert_exporter": "python",
   "pygments_lexer": "ipython2",
   "version": "2.7.6"
  }
 },
 "nbformat": 4,
 "nbformat_minor": 5
}
